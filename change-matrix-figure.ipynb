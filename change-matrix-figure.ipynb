{
 "cells": [
  {
   "cell_type": "code",
   "execution_count": 1,
   "id": "1e76a44e-359c-45b7-99ea-26291957bb6c",
   "metadata": {},
   "outputs": [
    {
     "name": "stdout",
     "output_type": "stream",
     "text": [
      "/kt/data/massdot-impact\n"
     ]
    }
   ],
   "source": [
    "# Libraries in active development\n",
    "# MDIData is a helper library to ease handling the way data is split across years\n",
    "\n",
    "# Environment\n",
    "%cd /kt/data/massdot-impact\n",
    "%load_ext autoreload\n",
    "%autoreload\n",
    "from massdot_impact import MDIData\n",
    "mdi = MDIData('./raw')"
   ]
  },
  {
   "cell_type": "code",
   "execution_count": 72,
   "id": "967a3df4-72ed-4974-a67b-2fed49cf0c0e",
   "metadata": {},
   "outputs": [],
   "source": [
    "import pandas\n",
    "import geopandas\n",
    "import numpy\n",
    "from matplotlib import pyplot as plt"
   ]
  },
  {
   "cell_type": "code",
   "execution_count": 4,
   "id": "a1b9e018-b7c9-4d28-8bda-54572ebc109e",
   "metadata": {},
   "outputs": [],
   "source": [
    "ehsa_norm =   geopandas.read_file('proc/arc-emerging-hotspot-analysis/mdi_ehsa_norm100k.shp')\n",
    "ehsa_nonorm = geopandas.read_file('proc/arc-emerging-hotspot-analysis/mdi_ehsa_nonorm.shp')"
   ]
  },
  {
   "cell_type": "code",
   "execution_count": 6,
   "id": "4ffab106-e337-4433-8b71-75ab152ab313",
   "metadata": {},
   "outputs": [
    {
     "data": {
      "text/plain": [
       "Index(['LOCATION', 'LOGSF1', 'CATEGORY', 'PATTERN', 'PERC_HOT', 'PERC_COLD',\n",
       "       'TREND_Z', 'TREND_P', 'TREND_BIN', 'SUM_VALUE', 'MIN_VALUE',\n",
       "       'MAX_VALUE', 'MEAN_VALUE', 'STD_VALUE', 'MED_VALUE', 'Shape_Leng',\n",
       "       'Shape_Area', 'geometry'],\n",
       "      dtype='object')"
      ]
     },
     "execution_count": 6,
     "metadata": {},
     "output_type": "execute_result"
    }
   ],
   "source": [
    "ehsa_norm.columns"
   ]
  },
  {
   "cell_type": "code",
   "execution_count": 9,
   "id": "bebad458-d565-4d56-9806-7fa65428f35c",
   "metadata": {},
   "outputs": [
    {
     "data": {
      "text/plain": [
       "<bound method NDFrame.head of       LOCATION  LOGSF1  CATEGORY              PATTERN   PERC_HOT  PERC_COLD  \\\n",
       "0            0  137632         0  No Pattern Detected   0.000000        0.0   \n",
       "1            1  137634         0  No Pattern Detected   0.000000        0.0   \n",
       "2            2  137636         0  No Pattern Detected   0.000000        0.0   \n",
       "3            3  137459         0  No Pattern Detected   0.000000        0.0   \n",
       "4            4  137460         0  No Pattern Detected   0.000000        0.0   \n",
       "...        ...     ...       ...                  ...        ...        ...   \n",
       "4974      4974  107370         6    Sporadic Hot Spot  77.777778        0.0   \n",
       "4975      4975  107372         0  No Pattern Detected  11.111111        0.0   \n",
       "4976      4976  107233         6    Sporadic Hot Spot  50.000000        0.0   \n",
       "4977      4977  107237         6    Sporadic Hot Spot  33.333333        0.0   \n",
       "4978      4978  107235         6    Sporadic Hot Spot  22.222222        0.0   \n",
       "\n",
       "       TREND_Z   TREND_P  TREND_BIN  SUM_VALUE  MIN_VALUE  MAX_VALUE  \\\n",
       "0     1.933150  0.053218        1.0      346.0        0.0       88.0   \n",
       "1     3.105971  0.001897        3.0       92.0        0.0       46.0   \n",
       "2     2.539628  0.011097        2.0      251.0        0.0      126.0   \n",
       "3     1.287842  0.197801        0.0     1099.0        0.0      256.0   \n",
       "4    -0.984820  0.324712        0.0      377.0        0.0      251.0   \n",
       "...        ...       ...        ...        ...        ...        ...   \n",
       "4974  3.408993  0.000652        3.0      288.0        0.0      144.0   \n",
       "4975  1.287842  0.197801        0.0     3864.0        0.0      422.0   \n",
       "4976  3.146107  0.001655        3.0     1416.0        0.0      161.0   \n",
       "4977  1.969640  0.048880        2.0     1596.0        0.0      180.0   \n",
       "4978  1.742374  0.081443        1.0    11968.0      321.0      981.0   \n",
       "\n",
       "      MEAN_VALUE   STD_VALUE  MED_VALUE    Shape_Leng    Shape_Area  \\\n",
       "0      19.222222   35.965347        0.0   8963.749528  2.767760e+06   \n",
       "1       5.111111   14.456405        0.0   9555.602586  4.637125e+06   \n",
       "2      13.944444   33.490417        0.0   9226.194871  2.429027e+06   \n",
       "3      61.055556   88.645030        0.0   3338.839737  6.863050e+05   \n",
       "4      20.944444   62.796384        0.0   3178.436538  4.038783e+05   \n",
       "...          ...         ...        ...           ...           ...   \n",
       "4974   16.000000   45.254834        0.0   2422.770421  2.444509e+05   \n",
       "4975  214.666667  122.563362      242.5  15906.408472  4.921346e+06   \n",
       "4976   78.666667   42.427716       52.5   8309.671233  3.214199e+06   \n",
       "4977   88.666667   63.332456       86.5   7523.361318  1.877858e+06   \n",
       "4978  664.888889  217.303395      701.0   4147.084896  9.396334e+05   \n",
       "\n",
       "                                               geometry  \n",
       "0     POLYGON ((245073.458 857943.957, 244937.535 85...  \n",
       "1     POLYGON ((242521.255 859747.835, 242574.643 85...  \n",
       "2     POLYGON ((244276.840 862120.231, 244318.253 86...  \n",
       "3     POLYGON ((241369.452 874137.571, 241375.528 87...  \n",
       "4     POLYGON ((240747.746 873189.605, 240726.355 87...  \n",
       "...                                                 ...  \n",
       "4974  POLYGON ((221294.315 903757.701, 221268.845 90...  \n",
       "4975  POLYGON ((218613.885 906734.200, 218621.222 90...  \n",
       "4976  POLYGON ((222116.947 909385.708, 222108.345 90...  \n",
       "4977  POLYGON ((221625.072 910877.416, 221623.187 91...  \n",
       "4978  POLYGON ((222869.469 910734.736, 222866.353 91...  \n",
       "\n",
       "[4979 rows x 18 columns]>"
      ]
     },
     "execution_count": 9,
     "metadata": {},
     "output_type": "execute_result"
    }
   ],
   "source": [
    "ehsa_norm.head"
   ]
  },
  {
   "cell_type": "code",
   "execution_count": 8,
   "id": "361b160a-cc63-47a0-9c83-db0587ecfb77",
   "metadata": {},
   "outputs": [
    {
     "data": {
      "text/plain": [
       "0       No Pattern Detected\n",
       "1       No Pattern Detected\n",
       "2       No Pattern Detected\n",
       "3       No Pattern Detected\n",
       "4       No Pattern Detected\n",
       "               ...         \n",
       "4974      Sporadic Hot Spot\n",
       "4975    No Pattern Detected\n",
       "4976      Sporadic Hot Spot\n",
       "4977      Sporadic Hot Spot\n",
       "4978      Sporadic Hot Spot\n",
       "Name: PATTERN, Length: 4979, dtype: object"
      ]
     },
     "execution_count": 8,
     "metadata": {},
     "output_type": "execute_result"
    }
   ],
   "source": [
    "ehsa_norm.PATTERN"
   ]
  },
  {
   "cell_type": "code",
   "execution_count": 39,
   "id": "4aebbb43-a29b-47b5-aeb9-df4d6386e594",
   "metadata": {},
   "outputs": [
    {
     "data": {
      "text/html": [
       "<div>\n",
       "<style scoped>\n",
       "    .dataframe tbody tr th:only-of-type {\n",
       "        vertical-align: middle;\n",
       "    }\n",
       "\n",
       "    .dataframe tbody tr th {\n",
       "        vertical-align: top;\n",
       "    }\n",
       "\n",
       "    .dataframe thead th {\n",
       "        text-align: right;\n",
       "    }\n",
       "</style>\n",
       "<table border=\"1\" class=\"dataframe\">\n",
       "  <thead>\n",
       "    <tr style=\"text-align: right;\">\n",
       "      <th></th>\n",
       "      <th>pattern_before</th>\n",
       "    </tr>\n",
       "    <tr>\n",
       "      <th>LOGSF1</th>\n",
       "      <th></th>\n",
       "    </tr>\n",
       "  </thead>\n",
       "  <tbody>\n",
       "    <tr>\n",
       "      <th>137632</th>\n",
       "      <td>No Pattern Detected</td>\n",
       "    </tr>\n",
       "    <tr>\n",
       "      <th>137634</th>\n",
       "      <td>No Pattern Detected</td>\n",
       "    </tr>\n",
       "    <tr>\n",
       "      <th>137636</th>\n",
       "      <td>No Pattern Detected</td>\n",
       "    </tr>\n",
       "    <tr>\n",
       "      <th>137459</th>\n",
       "      <td>No Pattern Detected</td>\n",
       "    </tr>\n",
       "    <tr>\n",
       "      <th>137460</th>\n",
       "      <td>No Pattern Detected</td>\n",
       "    </tr>\n",
       "    <tr>\n",
       "      <th>...</th>\n",
       "      <td>...</td>\n",
       "    </tr>\n",
       "    <tr>\n",
       "      <th>107370</th>\n",
       "      <td>Sporadic Hot Spot</td>\n",
       "    </tr>\n",
       "    <tr>\n",
       "      <th>107372</th>\n",
       "      <td>No Pattern Detected</td>\n",
       "    </tr>\n",
       "    <tr>\n",
       "      <th>107233</th>\n",
       "      <td>Sporadic Hot Spot</td>\n",
       "    </tr>\n",
       "    <tr>\n",
       "      <th>107237</th>\n",
       "      <td>Sporadic Hot Spot</td>\n",
       "    </tr>\n",
       "    <tr>\n",
       "      <th>107235</th>\n",
       "      <td>Sporadic Hot Spot</td>\n",
       "    </tr>\n",
       "  </tbody>\n",
       "</table>\n",
       "<p>4979 rows × 1 columns</p>\n",
       "</div>"
      ],
      "text/plain": [
       "             pattern_before\n",
       "LOGSF1                     \n",
       "137632  No Pattern Detected\n",
       "137634  No Pattern Detected\n",
       "137636  No Pattern Detected\n",
       "137459  No Pattern Detected\n",
       "137460  No Pattern Detected\n",
       "...                     ...\n",
       "107370    Sporadic Hot Spot\n",
       "107372  No Pattern Detected\n",
       "107233    Sporadic Hot Spot\n",
       "107237    Sporadic Hot Spot\n",
       "107235    Sporadic Hot Spot\n",
       "\n",
       "[4979 rows x 1 columns]"
      ]
     },
     "execution_count": 39,
     "metadata": {},
     "output_type": "execute_result"
    }
   ],
   "source": [
    "ehsa_norm_trim = pandas.DataFrame(ehsa_norm[['LOGSF1','PATTERN']])\n",
    "ehsa_norm_trim.set_index('LOGSF1',inplace=True)\n",
    "ehsa_norm_trim.columns = ['pattern_before']\n",
    "\n",
    "ehsa_nonorm_trim = pandas.DataFrame(ehsa_nonorm[['LOGSF1','PATTERN']])\n",
    "ehsa_nonorm_trim.set_index('LOGSF1',inplace=True)\n",
    "ehsa_nonorm_trim.columns = ['pattern_after']\n",
    "\n",
    "ehsa_norm_trim"
   ]
  },
  {
   "cell_type": "markdown",
   "id": "56eae4a5-60ef-475b-b98a-acddf35c2ab1",
   "metadata": {},
   "source": [
    "Axis labels for the plot"
   ]
  },
  {
   "cell_type": "code",
   "execution_count": 144,
   "id": "50665fba-9226-4802-b6f5-29fa4a8f48b3",
   "metadata": {},
   "outputs": [],
   "source": [
    "labels = [\n",
    "    'New Hot Spot',\n",
    "    'Intensifying Hot Spot',\n",
    "    'Persistent Hot Spot',\n",
    "    'Consecutive Hot Spot',\n",
    "    'Sporadic Hot Spot',\n",
    "    'Diminishing Hot Spot',\n",
    "    'Historical Hot Spot',\n",
    "    'No Pattern'\n",
    "]\n",
    "\n",
    "labels_short = [lab.replace(' Hot Spot','') for lab in labels]"
   ]
  },
  {
   "cell_type": "code",
   "execution_count": 74,
   "id": "156203d8-11eb-4134-bddf-eafc20fcb410",
   "metadata": {},
   "outputs": [
    {
     "data": {
      "text/html": [
       "<div>\n",
       "<style scoped>\n",
       "    .dataframe tbody tr th:only-of-type {\n",
       "        vertical-align: middle;\n",
       "    }\n",
       "\n",
       "    .dataframe tbody tr th {\n",
       "        vertical-align: top;\n",
       "    }\n",
       "\n",
       "    .dataframe thead th {\n",
       "        text-align: right;\n",
       "    }\n",
       "</style>\n",
       "<table border=\"1\" class=\"dataframe\">\n",
       "  <thead>\n",
       "    <tr style=\"text-align: right;\">\n",
       "      <th></th>\n",
       "      <th>pattern_before</th>\n",
       "      <th>pattern_after</th>\n",
       "      <th>change_matrix_coord</th>\n",
       "    </tr>\n",
       "    <tr>\n",
       "      <th>LOGSF1</th>\n",
       "      <th></th>\n",
       "      <th></th>\n",
       "      <th></th>\n",
       "    </tr>\n",
       "  </thead>\n",
       "  <tbody>\n",
       "    <tr>\n",
       "      <th>137632</th>\n",
       "      <td>No Pattern Detected</td>\n",
       "      <td>No Pattern Detected</td>\n",
       "      <td>(7, 7)</td>\n",
       "    </tr>\n",
       "    <tr>\n",
       "      <th>137634</th>\n",
       "      <td>No Pattern Detected</td>\n",
       "      <td>No Pattern Detected</td>\n",
       "      <td>(7, 7)</td>\n",
       "    </tr>\n",
       "    <tr>\n",
       "      <th>137636</th>\n",
       "      <td>No Pattern Detected</td>\n",
       "      <td>No Pattern Detected</td>\n",
       "      <td>(7, 7)</td>\n",
       "    </tr>\n",
       "    <tr>\n",
       "      <th>137459</th>\n",
       "      <td>No Pattern Detected</td>\n",
       "      <td>No Pattern Detected</td>\n",
       "      <td>(7, 7)</td>\n",
       "    </tr>\n",
       "    <tr>\n",
       "      <th>137460</th>\n",
       "      <td>No Pattern Detected</td>\n",
       "      <td>No Pattern Detected</td>\n",
       "      <td>(7, 7)</td>\n",
       "    </tr>\n",
       "    <tr>\n",
       "      <th>...</th>\n",
       "      <td>...</td>\n",
       "      <td>...</td>\n",
       "      <td>...</td>\n",
       "    </tr>\n",
       "    <tr>\n",
       "      <th>107370</th>\n",
       "      <td>Sporadic Hot Spot</td>\n",
       "      <td>Sporadic Hot Spot</td>\n",
       "      <td>(4, 4)</td>\n",
       "    </tr>\n",
       "    <tr>\n",
       "      <th>107372</th>\n",
       "      <td>No Pattern Detected</td>\n",
       "      <td>No Pattern Detected</td>\n",
       "      <td>(7, 7)</td>\n",
       "    </tr>\n",
       "    <tr>\n",
       "      <th>107233</th>\n",
       "      <td>Sporadic Hot Spot</td>\n",
       "      <td>Sporadic Hot Spot</td>\n",
       "      <td>(4, 4)</td>\n",
       "    </tr>\n",
       "    <tr>\n",
       "      <th>107237</th>\n",
       "      <td>Sporadic Hot Spot</td>\n",
       "      <td>Sporadic Hot Spot</td>\n",
       "      <td>(4, 4)</td>\n",
       "    </tr>\n",
       "    <tr>\n",
       "      <th>107235</th>\n",
       "      <td>Sporadic Hot Spot</td>\n",
       "      <td>No Pattern Detected</td>\n",
       "      <td>(4, 7)</td>\n",
       "    </tr>\n",
       "  </tbody>\n",
       "</table>\n",
       "<p>4979 rows × 3 columns</p>\n",
       "</div>"
      ],
      "text/plain": [
       "             pattern_before        pattern_after change_matrix_coord\n",
       "LOGSF1                                                              \n",
       "137632  No Pattern Detected  No Pattern Detected              (7, 7)\n",
       "137634  No Pattern Detected  No Pattern Detected              (7, 7)\n",
       "137636  No Pattern Detected  No Pattern Detected              (7, 7)\n",
       "137459  No Pattern Detected  No Pattern Detected              (7, 7)\n",
       "137460  No Pattern Detected  No Pattern Detected              (7, 7)\n",
       "...                     ...                  ...                 ...\n",
       "107370    Sporadic Hot Spot    Sporadic Hot Spot              (4, 4)\n",
       "107372  No Pattern Detected  No Pattern Detected              (7, 7)\n",
       "107233    Sporadic Hot Spot    Sporadic Hot Spot              (4, 4)\n",
       "107237    Sporadic Hot Spot    Sporadic Hot Spot              (4, 4)\n",
       "107235    Sporadic Hot Spot  No Pattern Detected              (4, 7)\n",
       "\n",
       "[4979 rows x 3 columns]"
      ]
     },
     "execution_count": 74,
     "metadata": {},
     "output_type": "execute_result"
    }
   ],
   "source": [
    "ehsa_join = ehsa_norm_trim.join(ehsa_nonorm_trim)\n",
    "\n",
    "ehsa_join['change_matrix_coord'] = ehsa_join.apply(\n",
    "    lambda r: (labels.index(r.pattern_before),\n",
    "               labels.index(r.pattern_after)),\n",
    "    axis=1)\n",
    "\n",
    "ehsa_join"
   ]
  },
  {
   "cell_type": "code",
   "execution_count": 87,
   "id": "c2a5514b-526e-4fb4-8283-cb53c60f4e13",
   "metadata": {},
   "outputs": [
    {
     "name": "stdout",
     "output_type": "stream",
     "text": [
      "{'No Pattern Detected', 'Sporadic Hot Spot', 'New Hot Spot', 'Consecutive Hot Spot', 'Diminishing Hot Spot', 'Persistent Hot Spot', 'Intensifying Hot Spot', 'Historical Hot Spot'}\n",
      "{'No Pattern Detected', 'Sporadic Hot Spot', 'New Hot Spot', 'Consecutive Hot Spot', 'Persistent Hot Spot', 'Intensifying Hot Spot', 'Historical Hot Spot'}\n"
     ]
    }
   ],
   "source": [
    "print(set(ehsa_join.pattern_before.tolist()))\n",
    "print(set(ehsa_join.pattern_after.tolist()))"
   ]
  },
  {
   "cell_type": "code",
   "execution_count": 109,
   "id": "d44625e0-e201-45e7-b8ce-b1c6007ff2d9",
   "metadata": {},
   "outputs": [
    {
     "data": {
      "text/plain": [
       "4251"
      ]
     },
     "execution_count": 109,
     "metadata": {},
     "output_type": "execute_result"
    }
   ],
   "source": [
    "len(ehsa_join[ehsa_join.change_matrix_coord == (7,7)])"
   ]
  },
  {
   "cell_type": "code",
   "execution_count": 111,
   "id": "7585558d-2012-41be-9591-a34692e787bb",
   "metadata": {},
   "outputs": [
    {
     "data": {
      "text/plain": [
       "array([[0, 0, 0, 0, 0, 0, 0, 0],\n",
       "       [0, 0, 0, 0, 0, 0, 0, 0],\n",
       "       [0, 0, 0, 0, 0, 0, 0, 0],\n",
       "       [0, 0, 0, 0, 0, 0, 0, 0],\n",
       "       [0, 0, 0, 0, 0, 0, 0, 0],\n",
       "       [0, 0, 0, 0, 0, 0, 0, 0],\n",
       "       [0, 0, 0, 0, 0, 0, 0, 0],\n",
       "       [0, 0, 0, 0, 0, 0, 0, 0]])"
      ]
     },
     "execution_count": 111,
     "metadata": {},
     "output_type": "execute_result"
    }
   ],
   "source": [
    "numpy.zeros((8,8), dtype='int')"
   ]
  },
  {
   "cell_type": "code",
   "execution_count": 112,
   "id": "a2ead068-5f80-4eb6-87d7-6cefddf10197",
   "metadata": {},
   "outputs": [
    {
     "name": "stdout",
     "output_type": "stream",
     "text": [
      "[[   3    0    0    4    6    0    0   13]\n",
      " [   0   43    0    8    5    0    0    0]\n",
      " [   0   31   20    4   13    0    0    1]\n",
      " [   5    5    1   85   33    0    0   20]\n",
      " [   4    4    6   33  155    0    0   68]\n",
      " [   0    0    3    0    1    0    0    0]\n",
      " [   0    0    1    0    0    0    4    3]\n",
      " [   9    2    2   41   92    0    0 4251]]\n",
      "4979\n",
      "4979\n"
     ]
    }
   ],
   "source": [
    "change_matrix = numpy.zeros([8,8], dtype='int')\n",
    "\n",
    "foo=0\n",
    "\n",
    "for index,row in ehsa_join.iterrows():\n",
    "    change_matrix[row.change_matrix_coord] += 1\n",
    "    foo += 1\n",
    "    \n",
    "print(change_matrix)\n",
    "print(change_matrix.sum())\n",
    "print(foo)"
   ]
  },
  {
   "cell_type": "code",
   "execution_count": 164,
   "id": "9f80bd44-5613-4d2a-abb9-18c7b179d408",
   "metadata": {},
   "outputs": [],
   "source": [
    "def highlight_cell(x,y, ax=None, **kwargs):\n",
    "    rect = plt.Rectangle((x-.5, y-.5), 1,1, fill=False, **kwargs)\n",
    "    ax = ax or plt.gca()\n",
    "    ax.add_patch(rect)\n",
    "    return rect"
   ]
  },
  {
   "cell_type": "code",
   "execution_count": 183,
   "id": "e8c386da-dc69-498c-81af-9095bf5212ed",
   "metadata": {},
   "outputs": [],
   "source": [
    "axlabel_before = 'Hotspot category before normalization'\n",
    "axlabel_after = 'Hotspot category after normalization'"
   ]
  },
  {
   "cell_type": "code",
   "execution_count": 262,
   "id": "4e3f9708-e786-42c0-bf79-3d416970f822",
   "metadata": {},
   "outputs": [],
   "source": [
    "def grid_fig(arr,\n",
    "             shade_arr,\n",
    "             fig_title,\n",
    "             labs,\n",
    "             axlab_y,\n",
    "             axlab_x,\n",
    "             lab_white_thresh,\n",
    "             outpath):\n",
    "    \n",
    "    fig, ax = plt.subplots(figsize=(6,6)) # Hard coded\n",
    "\n",
    "    ax.matshow(shade_arr, cmap=plt.cm.OrRd)\n",
    "\n",
    "    for i in range(8):\n",
    "        for j in range(8):\n",
    "            c = arr[j,i]\n",
    "            lab_col = 'white' if c>lab_white_thresh else 'black'\n",
    "            ax.text(i, j, str(c), va='center', ha='center', c=lab_col)\n",
    "\n",
    "    ax.set_yticklabels(['']+labs, rotation='horizontal')\n",
    "\n",
    "    ax.set_ylabel(axlab_y+'\\n')\n",
    "    ax.axes.get_xaxis().set_visible(False)\n",
    "\n",
    "    # Move the axis and labels to the top\n",
    "    secax = ax.secondary_xaxis('top')\n",
    "    secax.set_xlabel(axlab_x+'\\n')\n",
    "    secax.set_xticklabels(['']+labs, rotation='vertical')\n",
    "    secax.set_xticks(numpy.arange(-1,8,1)) # Hard coded dims!\n",
    "    \n",
    "    ax.set_title(fig_title)\n",
    "\n",
    "\n",
    "    # Create the rectangle for everythign that kept its original classification\n",
    "    # These don't quite line up, but it's good enough for a small figure\n",
    "    for i in range(8): highlight_cell(i,i, color=\"black\", linewidth=1) # More hard coding!\n",
    "\n",
    "    plt.tight_layout()\n",
    "    plt.savefig(outpath)\n",
    "    plt.show()"
   ]
  },
  {
   "cell_type": "code",
   "execution_count": 267,
   "id": "47f47a32-a5ce-463a-b157-8a1759c86929",
   "metadata": {},
   "outputs": [
    {
     "name": "stderr",
     "output_type": "stream",
     "text": [
      "/tmp/ipykernel_1374303/2977732366.py:2: RuntimeWarning: divide by zero encountered in log10\n",
      "  shade_arr = numpy.log10(change_matrix),\n",
      "/tmp/ipykernel_1374303/290445816.py:20: UserWarning: FixedFormatter should only be used together with FixedLocator\n",
      "  ax.set_yticklabels(['']+labs, rotation='horizontal')\n",
      "/tmp/ipykernel_1374303/290445816.py:28: UserWarning: FixedFormatter should only be used together with FixedLocator\n",
      "  secax.set_xticklabels(['']+labs, rotation='vertical')\n"
     ]
    },
    {
     "data": {
      "image/png": "[encoded data removed]",
      "text/plain": [
       "<Figure size 432x432 with 1 Axes>"
      ]
     },
     "metadata": {
      "needs_background": "light"
     },
     "output_type": "display_data"
    },
    {
     "name": "stderr",
     "output_type": "stream",
     "text": [
      "/tmp/ipykernel_1374303/290445816.py:20: UserWarning: FixedFormatter should only be used together with FixedLocator\n",
      "  ax.set_yticklabels(['']+labs, rotation='horizontal')\n",
      "/tmp/ipykernel_1374303/290445816.py:28: UserWarning: FixedFormatter should only be used together with FixedLocator\n",
      "  secax.set_xticklabels(['']+labs, rotation='vertical')\n"
     ]
    },
    {
     "data": {
      "image/png": "[encoded data removed]",
      "text/plain": [
       "<Figure size 432x432 with 1 Axes>"
      ]
     },
     "metadata": {
      "needs_background": "light"
     },
     "output_type": "display_data"
    }
   ],
   "source": [
    "grid_fig(change_matrix,\n",
    "         shade_arr = numpy.log10(change_matrix),\n",
    "         fig_title = 'Comparison table of category changes before \\n \\\n",
    "         and after normalizing for population density\\n(absolute counts)\\n',\n",
    "         labs = labels_short,\n",
    "         axlab_y = axlabel_before,\n",
    "         axlab_x = axlabel_after,\n",
    "         lab_white_thresh=1000,\n",
    "         outpath = 'notebooks/fig-out/before-after-counts-abs.pdf')\n",
    "\n",
    "change_proportions = numpy.array(100*change_matrix/change_matrix.sum(axis=1)[:,None], dtype=\"int\")\n",
    "\n",
    "grid_fig(change_proportions,\n",
    "         shade_arr = change_proportions,\n",
    "         fig_title='Comparison table of category changes before \\n \\\n",
    "         and after normalizing for population density\\n(percentages of original label members)\\n',\n",
    "         labs = labels_short,\n",
    "         axlab_y = axlabel_before,\n",
    "         axlab_x = axlabel_after,\n",
    "         lab_white_thresh = 65,\n",
    "         outpath = 'notebooks/fig-out/before-after-counts-pct.pdf')"
   ]
  }
 ],
 "metadata": {
  "kernelspec": {
   "display_name": "massdot_impact",
   "language": "python",
   "name": "massdot_impact"
  },
  "language_info": {
   "codemirror_mode": {
    "name": "ipython",
    "version": 3
   },
   "file_extension": ".py",
   "mimetype": "text/x-python",
   "name": "python",
   "nbconvert_exporter": "python",
   "pygments_lexer": "ipython3",
   "version": "3.10.4"
  },
  "widgets": {
   "application/vnd.jupyter.widget-state+json": {
    "state": {},
    "version_major": 2,
    "version_minor": 0
   }
  }
 },
 "nbformat": 4,
 "nbformat_minor": 5
}
